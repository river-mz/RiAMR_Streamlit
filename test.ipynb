{
 "cells": [
  {
   "cell_type": "code",
   "execution_count": null,
   "id": "b0ea1a8c",
   "metadata": {},
   "outputs": [],
   "source": []
  },
  {
   "cell_type": "code",
   "execution_count": 1,
   "metadata": {},
   "outputs": [
    {
     "name": "stdout",
     "output_type": "stream",
     "text": [
      "Index(['Unnamed: 0', 'age', 'race', 'veteran', 'gender', 'BMI',\n",
      "       'previous_antibiotics_exposure_cephalosporin',\n",
      "       'previous_antibiotics_exposure_carbapenem',\n",
      "       'previous_antibiotics_exposure_fluoroquinolone',\n",
      "       'previous_antibiotics_exposure_polymyxin',\n",
      "       'previous_antibiotics_exposure_aminoglycoside',\n",
      "       'previous_antibiotics_exposure_nitrofurantoin',\n",
      "       'previous_antibiotics_resistance_nitrofurantoin',\n",
      "       'previous_antibiotics_resistance_sulfamethoxazole',\n",
      "       'previous_antibiotics_resistance_ciprofloxacin',\n",
      "       'previous_antibiotics_resistance_levofloxacin', 'additional_note',\n",
      "       'organism_name_before', 'department_type_before', 'LOS',\n",
      "       'department_type', 'organism_name'],\n",
      "      dtype='object')\n"
     ]
    }
   ],
   "source": [
    "import pandas as pd\n",
    "\n",
    "df = pd.read_csv('test11_before_preprocessing.csv',header=0)\n",
    "print(df.columns)"
   ]
  },
  {
   "cell_type": "code",
   "execution_count": null,
   "id": "3c46f87b",
   "metadata": {},
   "outputs": [],
   "source": []
  }
 ],
 "metadata": {
  "kernelspec": {
   "display_name": "amr2",
   "language": "python",
   "name": "python3"
  },
  "language_info": {
   "codemirror_mode": {
    "name": "ipython",
    "version": 3
   },
   "file_extension": ".py",
   "mimetype": "text/x-python",
   "name": "python",
   "nbconvert_exporter": "python",
   "pygments_lexer": "ipython3",
   "version": "3.8.20"
  }
 },
 "nbformat": 4,
 "nbformat_minor": 5
}
